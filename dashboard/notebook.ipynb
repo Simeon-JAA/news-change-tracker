{
 "cells": [
  {
   "cell_type": "code",
   "execution_count": 8,
   "metadata": {},
   "outputs": [],
   "source": [
    "import streamlit as st\n",
    "import pandas as pd\n",
    "from main import get_db_connection, retrieve_article_changes, retrieve_article_info, retrieve_author\n",
    "\n",
    "db_conn = get_db_connection()\n",
    "\n",
    "article_changes = retrieve_article_changes(db_conn)\n",
    "articles = retrieve_article_info(db_conn)\n",
    "articles[\"authors\"] = articles[\"article_id\"].apply(lambda x:\\\n",
    "                                retrieve_author(db_conn, x))\n",
    "\n"
   ]
  },
  {
   "cell_type": "code",
   "execution_count": 7,
   "metadata": {},
   "outputs": [
    {
     "name": "stdout",
     "output_type": "stream",
     "text": [
      "     article_id                                        article_url source  \\\n",
      "0             1  https://www.bbc.co.uk/news/science-environment...    BBC   \n",
      "1             2             https://www.bbc.co.uk/news/uk-66534732    BBC   \n",
      "2             3         https://www.bbc.co.uk/news/health-66709076    BBC   \n",
      "3             4   https://www.bbc.co.uk/news/world-europe-66711845    BBC   \n",
      "4             5  https://www.bbc.co.uk/news/world-asia-china-66...    BBC   \n",
      "..          ...                                                ...    ...   \n",
      "211         212  https://www.bbc.co.uk/sport/mixed-martial-arts...    BBC   \n",
      "212         213  https://www.bbc.co.uk/news/science-environment...    BBC   \n",
      "213         214       https://www.bbc.co.uk/news/business-66783922    BBC   \n",
      "214         215    https://www.bbc.co.uk/news/uk-scotland-66783640    BBC   \n",
      "215         216  https://www.bbc.co.uk/news/entertainment-arts-...    BBC   \n",
      "\n",
      "                   created_at  \\\n",
      "0   2023-09-05 06:49:33+00:00   \n",
      "1   2023-09-05 02:20:08+00:00   \n",
      "2   2023-09-05 03:21:36+00:00   \n",
      "3   2023-09-05 05:00:15+00:00   \n",
      "4   2023-09-05 06:08:42+00:00   \n",
      "..                        ...   \n",
      "211 2023-09-12 06:06:41+00:00   \n",
      "212 2023-09-12 07:58:30+00:00   \n",
      "213 2023-09-12 07:33:59+00:00   \n",
      "214 2023-09-12 07:01:10+00:00   \n",
      "215 2023-09-12 07:09:44+00:00   \n",
      "\n",
      "                                               authors  \n",
      "0    [Esme Stallard, Becky Dale, Jonah Fisher, Soph...  \n",
      "1                                          [Ed Thomas]  \n",
      "2                                     [Philippa Roxby]  \n",
      "3                         [Yalda Hakim, Mattea Bubalo]  \n",
      "4                                           [Fan Wang]  \n",
      "..                                                 ...  \n",
      "211                                                 []  \n",
      "212      [Sophie Woodcock, Esme Stallard Jonah Fisher]  \n",
      "213                                    [Kevin Peachey]  \n",
      "214                                                 []  \n",
      "215                                       [Paul Glynn]  \n",
      "\n",
      "[216 rows x 5 columns]\n"
     ]
    }
   ],
   "source": [
    "print(articles)\n",
    "    "
   ]
  },
  {
   "cell_type": "code",
   "execution_count": 10,
   "metadata": {},
   "outputs": [
    {
     "name": "stdout",
     "output_type": "stream",
     "text": [
      "<class 'pandas.core.frame.DataFrame'>\n",
      "RangeIndex: 178 entries, 0 to 177\n",
      "Data columns (total 8 columns):\n",
      " #   Column            Non-Null Count  Dtype              \n",
      "---  ------            --------------  -----              \n",
      " 0   article_id        178 non-null    int64              \n",
      " 1   article_url       178 non-null    object             \n",
      " 2   change_type       178 non-null    object             \n",
      " 3   previous_version  178 non-null    object             \n",
      " 4   current_version   178 non-null    object             \n",
      " 5   last_scraped      178 non-null    datetime64[ns, UTC]\n",
      " 6   current_scraped   178 non-null    datetime64[ns, UTC]\n",
      " 7   similarity        178 non-null    float64            \n",
      "dtypes: datetime64[ns, UTC](2), float64(1), int64(1), object(4)\n",
      "memory usage: 11.3+ KB\n",
      "None\n"
     ]
    }
   ],
   "source": [
    "print(article_changes.info())"
   ]
  },
  {
   "cell_type": "code",
   "execution_count": 13,
   "metadata": {},
   "outputs": [
    {
     "data": {
      "text/plain": [
       "DeltaGenerator()"
      ]
     },
     "execution_count": 13,
     "metadata": {},
     "output_type": "execute_result"
    }
   ],
   "source": [
    "st.markdown(\"# News Tracker\")"
   ]
  },
  {
   "cell_type": "code",
   "execution_count": 18,
   "metadata": {},
   "outputs": [
    {
     "name": "stdout",
     "output_type": "stream",
     "text": [
      "None\n"
     ]
    }
   ],
   "source": [
    "\n",
    "total_articles_scraped = articles.shape[0]\n",
    "st.write(\"Total articles scraped:\", total_articles_scraped)"
   ]
  },
  {
   "cell_type": "code",
   "execution_count": null,
   "metadata": {},
   "outputs": [],
   "source": []
  }
 ],
 "metadata": {
  "kernelspec": {
   "display_name": "venv",
   "language": "python",
   "name": "python3"
  },
  "language_info": {
   "codemirror_mode": {
    "name": "ipython",
    "version": 3
   },
   "file_extension": ".py",
   "mimetype": "text/x-python",
   "name": "python",
   "nbconvert_exporter": "python",
   "pygments_lexer": "ipython3",
   "version": "3.11.3"
  },
  "orig_nbformat": 4
 },
 "nbformat": 4,
 "nbformat_minor": 2
}
