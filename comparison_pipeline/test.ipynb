{
 "cells": [
  {
   "cell_type": "markdown",
   "metadata": {},
   "source": []
  },
  {
   "cell_type": "code",
   "execution_count": 17,
   "metadata": {},
   "outputs": [],
   "source": [
    "import pandas as pd"
   ]
  },
  {
   "cell_type": "code",
   "execution_count": 20,
   "metadata": {},
   "outputs": [
    {
     "data": {
      "text/html": [
       "<div>\n",
       "<style scoped>\n",
       "    .dataframe tbody tr th:only-of-type {\n",
       "        vertical-align: middle;\n",
       "    }\n",
       "\n",
       "    .dataframe tbody tr th {\n",
       "        vertical-align: top;\n",
       "    }\n",
       "\n",
       "    .dataframe thead tr th {\n",
       "        text-align: left;\n",
       "    }\n",
       "</style>\n",
       "<table border=\"1\" class=\"dataframe\">\n",
       "  <thead>\n",
       "    <tr>\n",
       "      <th></th>\n",
       "      <th colspan=\"2\" halign=\"left\">heading</th>\n",
       "      <th colspan=\"2\" halign=\"left\">body</th>\n",
       "      <th>article_url</th>\n",
       "      <th colspan=\"2\" halign=\"left\">scraped_at</th>\n",
       "    </tr>\n",
       "    <tr>\n",
       "      <th></th>\n",
       "      <th>previous</th>\n",
       "      <th>updated</th>\n",
       "      <th>previous</th>\n",
       "      <th>updated</th>\n",
       "      <th>updated</th>\n",
       "      <th>previous</th>\n",
       "      <th>updated</th>\n",
       "    </tr>\n",
       "  </thead>\n",
       "  <tbody>\n",
       "    <tr>\n",
       "      <th>0</th>\n",
       "      <td>headline</td>\n",
       "      <td>new headline</td>\n",
       "      <td>body</td>\n",
       "      <td>new body</td>\n",
       "      <td>new url</td>\n",
       "      <td>time</td>\n",
       "      <td>new time</td>\n",
       "    </tr>\n",
       "  </tbody>\n",
       "</table>\n",
       "</div>"
      ],
      "text/plain": [
       "    heading                   body           article_url scraped_at          \n",
       "   previous       updated previous   updated     updated   previous   updated\n",
       "0  headline  new headline     body  new body     new url       time  new time"
      ]
     },
     "execution_count": 20,
     "metadata": {},
     "output_type": "execute_result"
    }
   ],
   "source": [
    "def mock_compared_df():\n",
    "    \"\"\"Fixture for mock compared df\"\"\"\n",
    "    cols = pd.MultiIndex.from_product([\n",
    "        [\"heading\", \"body\", \"article_url\", \"scraped_at\"],\n",
    "        [\"previous\", \"updated\"]\n",
    "    ])\n",
    "\n",
    "    return pd.DataFrame(\n",
    "    [(\"headline\", \"new headline\", \"body\", \"new body\", \"url\", \"new url\", \"time\", \"new time\")\n",
    "    ], columns= cols).drop(columns=[(\"article_url\", \"previous\")])\n",
    "\n",
    "df = mock_compared_df()\n",
    "df"
   ]
  },
  {
   "cell_type": "code",
   "execution_count": 21,
   "metadata": {},
   "outputs": [
    {
     "data": {
      "text/html": [
       "<div>\n",
       "<style scoped>\n",
       "    .dataframe tbody tr th:only-of-type {\n",
       "        vertical-align: middle;\n",
       "    }\n",
       "\n",
       "    .dataframe tbody tr th {\n",
       "        vertical-align: top;\n",
       "    }\n",
       "\n",
       "    .dataframe thead tr th {\n",
       "        text-align: left;\n",
       "    }\n",
       "</style>\n",
       "<table border=\"1\" class=\"dataframe\">\n",
       "  <thead>\n",
       "    <tr>\n",
       "      <th></th>\n",
       "      <th colspan=\"2\" halign=\"left\">heading</th>\n",
       "      <th colspan=\"2\" halign=\"left\">body</th>\n",
       "      <th>article_url</th>\n",
       "      <th colspan=\"2\" halign=\"left\">scraped_at</th>\n",
       "    </tr>\n",
       "    <tr>\n",
       "      <th></th>\n",
       "      <th>previous</th>\n",
       "      <th>updated</th>\n",
       "      <th>previous</th>\n",
       "      <th>updated</th>\n",
       "      <th>updated</th>\n",
       "      <th>previous</th>\n",
       "      <th>updated</th>\n",
       "    </tr>\n",
       "  </thead>\n",
       "  <tbody>\n",
       "    <tr>\n",
       "      <th>0</th>\n",
       "      <td>headline</td>\n",
       "      <td>new headline</td>\n",
       "      <td>body</td>\n",
       "      <td>new body</td>\n",
       "      <td>new url</td>\n",
       "      <td>time</td>\n",
       "      <td>new time</td>\n",
       "    </tr>\n",
       "  </tbody>\n",
       "</table>\n",
       "</div>"
      ],
      "text/plain": [
       "    heading                   body           article_url scraped_at          \n",
       "   previous       updated previous   updated     updated   previous   updated\n",
       "0  headline  new headline     body  new body     new url       time  new time"
      ]
     },
     "execution_count": 21,
     "metadata": {},
     "output_type": "execute_result"
    }
   ],
   "source": [
    "changes = df[(df[\"heading\"][\"previous\"] != df[\"heading\"][\"updated\"]) & \\\n",
    "                      (df[\"body\"][\"previous\"] != df[\"body\"][\"updated\"])]\n",
    "changes"
   ]
  }
 ],
 "metadata": {
  "kernelspec": {
   "display_name": "venv",
   "language": "python",
   "name": "python3"
  },
  "language_info": {
   "codemirror_mode": {
    "name": "ipython",
    "version": 3
   },
   "file_extension": ".py",
   "mimetype": "text/x-python",
   "name": "python",
   "nbconvert_exporter": "python",
   "pygments_lexer": "ipython3",
   "version": "3.11.4"
  },
  "orig_nbformat": 4
 },
 "nbformat": 4,
 "nbformat_minor": 2
}
